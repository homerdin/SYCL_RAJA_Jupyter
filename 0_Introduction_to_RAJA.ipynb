{
 "cells": [
  {
   "cell_type": "markdown",
   "metadata": {},
   "source": [
    "# RAJA\n",
    "RAJA is a software library of C++ abstractions to support architecture and programming model portable parallel loop executiontion.  It provides portable abstractions for simple and complex loops."
   ]
  },
  {
   "cell_type": "markdown",
   "metadata": {},
   "source": [
    "# RAJA-SYCL\n",
    "RAJA supports portability execution policy through various backends specific to the architecture.  The development of a SYCL backend is a work in progress and can be found at https://github.com/homerdin/RAJA.  This branch introduces several SYCL execution policies:\n",
    "```\n",
    "sycl_exec<block_size, async>\n",
    "SyclKernel<...>\n",
    "```\n",
    "along with the SYCL kernel policies\n",
    "```\n",
    "sycl_global_1<block_size>\n",
    "sycl_global_2<block_size>\n",
    "sycl_global_3<block_size>\n",
    "sycl_group_1_direct\n",
    "sycl_group_2_direct\n",
    "sycl_group_3_direct\n",
    "sycl_group_1_loop\n",
    "sycl_group_2_loop\n",
    "sycl_group_3_loop\n",
    "sycl_local_1_direct\n",
    "sycl_local_2_direct\n",
    "sycl_local_3_direct\n",
    "sycl_local_1_loop\n",
    "sycl_local_2_loop\n",
    "sycl_local_3_loop\n",
    "```\n",
    "\n",
    "There is also early support for the RAJA reduction object SYCL policy.  \n",
    "```\n",
    "sycl_reduce\n",
    "```\n"
   ]
  },
  {
   "cell_type": "markdown",
   "metadata": {},
   "source": [
    "# RAJA Performance Suite\n",
    "The RAJA performance suite includes a collection of loop-based computational kernels.  It is used to assess the performance of kernels implemented through RAJA against an implementation using the standard programming model directly.  This include various variants such as, `Base_Seq, RAJA_Seq, Base_OpenMP, RAJA_OpenMP, Base_OpenMPTarget, RAJA_OpenMPTarget, Base_CUDA, RAJA_CUDA`\n",
    "\n",
    "To assess the performance of the work in progress SYCL backend we ported several of these kernels to both SYCL and RAJA-SYCL through the `Base_SYCL and RAJA_SYCL` variants.\n"
   ]
  },
  {
   "cell_type": "markdown",
   "metadata": {},
   "source": [
    "### Build the RAJA performance suite with SYCL variants\n",
    "The `build_RAJAPerf` includes steps to build the RAJA performance suite with RAJA"
   ]
  },
  {
   "cell_type": "code",
   "execution_count": 4,
   "metadata": {},
   "outputs": [
    {
     "name": "stdout",
     "output_type": "stream",
     "text": [
      "Overwriting build_RAJAPerf\n"
     ]
    }
   ],
   "source": [
    "%%writefile build_RAJAPerf\n",
    "cd ${PBS_O_WORKDIR}/src/RAJAPerf\n",
    "./scripts/alcf-builds/sycl.sh\n",
    "cd ${PBS_O_WORKDIR}/src/RAJAPerf/build_sycl && make -j 4\n"
   ]
  },
  {
   "cell_type": "markdown",
   "metadata": {},
   "source": [
    "The `!qsub build_RAJAPerf` command will submit the build script to a compute node"
   ]
  },
  {
   "cell_type": "code",
   "execution_count": null,
   "metadata": {},
   "outputs": [],
   "source": [
    "!qsub build_RAJAPerf"
   ]
  },
  {
   "cell_type": "markdown",
   "metadata": {},
   "source": [
    "Once the above job finishes we can run the suite."
   ]
  },
  {
   "cell_type": "code",
   "execution_count": null,
   "metadata": {},
   "outputs": [],
   "source": [
    "!qstat"
   ]
  },
  {
   "cell_type": "markdown",
   "metadata": {},
   "source": [
    "The `run_RAJAPerf` script will execute the performance suite with all variants"
   ]
  },
  {
   "cell_type": "code",
   "execution_count": 5,
   "metadata": {},
   "outputs": [
    {
     "name": "stdout",
     "output_type": "stream",
     "text": [
      "Writing run_RAJAPerf\n"
     ]
    }
   ],
   "source": [
    "%%writefile run_RAJAPerf\n",
    "cd ${PBS_O_WORKDIR}\n",
    "./src/RAJAPerf/build_sycl/bin/raja-perf.exe -od output\n"
   ]
  },
  {
   "cell_type": "markdown",
   "metadata": {},
   "source": [
    "We can submit the run to a GEN9 compute node with `!qsub run_RAJAPerf`"
   ]
  },
  {
   "cell_type": "code",
   "execution_count": null,
   "metadata": {},
   "outputs": [],
   "source": [
    "!qsub -l nodes=1:gpu:ppn=2 run_RAJAPerf"
   ]
  },
  {
   "cell_type": "markdown",
   "metadata": {},
   "source": [
    "One the run job finishes we can look at the output reports from the performance suite."
   ]
  },
  {
   "cell_type": "code",
   "execution_count": null,
   "metadata": {},
   "outputs": [],
   "source": [
    "!cat output/RAJAPerf-timing.csv"
   ]
  }
 ],
 "metadata": {
  "kernelspec": {
   "display_name": "Python 3",
   "language": "python",
   "name": "python3"
  },
  "language_info": {
   "codemirror_mode": {
    "name": "ipython",
    "version": 3
   },
   "file_extension": ".py",
   "mimetype": "text/x-python",
   "name": "python",
   "nbconvert_exporter": "python",
   "pygments_lexer": "ipython3",
   "version": "3.6.8"
  }
 },
 "nbformat": 4,
 "nbformat_minor": 2
}
