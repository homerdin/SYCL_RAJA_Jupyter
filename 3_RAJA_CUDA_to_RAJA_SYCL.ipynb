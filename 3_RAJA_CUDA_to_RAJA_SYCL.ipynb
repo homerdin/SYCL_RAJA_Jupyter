{
 "cells": [
  {
   "cell_type": "markdown",
   "metadata": {},
   "source": [
    "# RAJA Performance Suite - RAJA_CUDA to RAJA_SYCL"
   ]
  },
  {
   "cell_type": "markdown",
   "metadata": {},
   "source": [
    "RAJA provides abstractions for parallel loop execution, but does not include memory management.  The companion projects Umpire and CHAI provide portable memory management, but we will use our SYCL USM implementations directly\n",
    "\n",
    "Below is our SYCL USM implementation for `DAXPY`'s data setup."
   ]
  },
  {
   "cell_type": "code",
   "execution_count": null,
   "metadata": {},
   "outputs": [],
   "source": [
    "%%writefile ./src/RAJAPerf/src/basic/DAXPY_Setup.hpp\n",
    "x = cl::sycl::malloc_device<Real_type>(iend, qu);\n",
    "y = cl::sycl::malloc_device<Real_type>(iend, qu);\n",
    "auto e = qu.memcpy(x, m_x, iend * sizeof(Real_type));\n",
    "auto e2 = qu.memcpy(y, m_y, iend * sizeof(Real_type));\n",
    "// Wait for memcpys to finish\n",
    "e.wait();\n",
    "e2.wait();\n"
   ]
  },
  {
   "cell_type": "markdown",
   "metadata": {},
   "source": [
    "The RAJA Kernel follows a similar structure to other kernel executions.  With a range and index.  The interesting part is in the template parameter, which provides the execution policy for kernel.  The existing RAJA implemenation for running on CUDA is,\n",
    "```\n",
    "      RAJA::forall< RAJA::cuda_exec<block_size, true> >(\n",
    "        RAJA::RangeSegment(ibegin, iend), [=] (Index_type i) {\n",
    "        DAXPY_BODY;\n",
    "      });\n",
    "```\n",
    "\n",
    "All that is required to port this existing RAJA kernel to run with SYCL is to change the `cuda_exec` policy to a SYCL policy.  Below we use the `sycl_exec_trivial` policy because the `DAXPY` kernel is trivially copyable."
   ]
  },
  {
   "cell_type": "code",
   "execution_count": null,
   "metadata": {},
   "outputs": [],
   "source": [
    "%%writefile ./src/RAJAPerf/src/basic/DAXPY_RAJA_Kernel.hpp\n",
    "\n",
    "      RAJA::forall< RAJA::sycl_exec_trivial<block_size, true> >(\n",
    "        RAJA::RangeSegment(ibegin, iend), [=] (Index_type i) {\n",
    "        DAXPY_BODY;\n",
    "      });\n",
    "\n",
    "      "
   ]
  },
  {
   "cell_type": "markdown",
   "metadata": {},
   "source": [
    "Again we will use our existing SYCL USM implementation to handle the data teardown"
   ]
  },
  {
   "cell_type": "code",
   "execution_count": null,
   "metadata": {},
   "outputs": [],
   "source": [
    "%%writefile ./src/RAJAPerf/src/basic/DAXPY_Teardown.hpp\n",
    "auto e3 = qu.memcpy(m_y, y, iend * sizeof(Real_type));\n",
    "// Wait for memcpy to finish\n",
    "e3.wait();\n",
    "cl::sycl::free(x, qu);\n",
    "cl::sycl::free(y, qu);\n"
   ]
  },
  {
   "cell_type": "markdown",
   "metadata": {},
   "source": [
    "### Now lets rebuild the performance suite"
   ]
  },
  {
   "cell_type": "code",
   "execution_count": 1,
   "metadata": {},
   "outputs": [
    {
     "name": "stderr",
     "output_type": "stream",
     "text": [
      "UsageError: Cell magic `%%` not found.\n"
     ]
    }
   ],
   "source": [
    "!qsub build_RAJAPerf"
   ]
  },
  {
   "cell_type": "markdown",
   "metadata": {},
   "source": [
    "### After it finishes building, lets run the performance suite with our `Base_SYCL DAXPY` kernel"
   ]
  },
  {
   "cell_type": "code",
   "execution_count": null,
   "metadata": {},
   "outputs": [],
   "source": [
    "!qstat"
   ]
  },
  {
   "cell_type": "code",
   "execution_count": 2,
   "metadata": {},
   "outputs": [
    {
     "name": "stderr",
     "output_type": "stream",
     "text": [
      "UsageError: Cell magic `%%` not found.\n"
     ]
    }
   ],
   "source": [
    "!qsub -l nodes=1:gpu:ppn=2 run_RAJAPerf"
   ]
  },
  {
   "cell_type": "markdown",
   "metadata": {},
   "source": [
    "### After the run finishes, lets check the report"
   ]
  },
  {
   "cell_type": "code",
   "execution_count": 3,
   "metadata": {},
   "outputs": [
    {
     "name": "stderr",
     "output_type": "stream",
     "text": [
      "UsageError: Cell magic `%%` not found.\n"
     ]
    }
   ],
   "source": [
    "!cat output/RAJAPerf-timing.csv"
   ]
  },
  {
   "cell_type": "code",
   "execution_count": null,
   "metadata": {},
   "outputs": [],
   "source": []
  }
 ],
 "metadata": {
  "kernelspec": {
   "display_name": "Python 3",
   "language": "python",
   "name": "python3"
  },
  "language_info": {
   "codemirror_mode": {
    "name": "ipython",
    "version": 3
   },
   "file_extension": ".py",
   "mimetype": "text/x-python",
   "name": "python",
   "nbconvert_exporter": "python",
   "pygments_lexer": "ipython3",
   "version": "3.6.8"
  }
 },
 "nbformat": 4,
 "nbformat_minor": 2
}
